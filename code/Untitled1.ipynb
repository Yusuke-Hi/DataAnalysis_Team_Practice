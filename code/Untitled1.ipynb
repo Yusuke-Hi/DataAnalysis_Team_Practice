{
 "cells": [
  {
   "cell_type": "code",
   "execution_count": null,
   "id": "46621e77-c597-4f96-8b95-55331a83f837",
   "metadata": {},
   "outputs": [],
   "source": [
    "# クラスターごとの分布\n",
    "cross = pd.crosstab(Eco_enc_df['Cluster'], Eco_enc_df[''], margins=True, normalize=\"index\")\n",
    "fig, axes = plt.subplots(1, 2, figsize=(10, 5))\n",
    "\n",
    "# 左側のグラフ\n",
    "cross.plot(kind=\"bar\", ax=axes[0])\n",
    "axes[0].set_xlabel('Cluster')\n",
    "axes[0].set_ylabel('Proportion')\n",
    "axes[0].set_title('Gender and Satisfaction (Normalized)')\n",
    "axes[0].legend(loc='upper left', bbox_to_anchor=(1, 1), prop={'size': 8})\n",
    "\n",
    "# 右側のグラフ\n",
    "cross_counts = pd.crosstab(Eco_enc_df['Cluster'], Eco_enc_df[''], margins=True)\n",
    "cross_counts.plot(kind=\"bar\", ax=axes[1])\n",
    "axes[1].set_xlabel('Cluster')\n",
    "axes[1].set_ylabel('Count')\n",
    "axes[1].set_title('Gender and Satisfaction (Count)')\n",
    "axes[1].legend(loc='upper left', bbox_to_anchor=(1, 1), prop={'size': 8})\n",
    "\n",
    "plt.tight_layout()\n",
    "plt.show()"
   ]
  },
  {
   "cell_type": "code",
   "execution_count": null,
   "id": "d6ef8c25-6f47-40e4-bbdb-8c6227d9dc92",
   "metadata": {},
   "outputs": [],
   "source": [
    "#各クラスターごとの年齢分布\n",
    "cross = pd.crosstab(Eco_enc_df['Cluster'], Eco_enc_df[''], margins=True, normalize=\"index\")\n",
    "fig, axes = plt.subplots(6, 2, figsize=(10, 25))\n",
    "\n",
    "for cluster in range(6):\n",
    "    # クラスターごとの情報のみ抽出\n",
    "    cluster_data = cross.loc[[cluster], :]\n",
    "    cluster_counts = cross_counts.loc[[cluster], :]\n",
    "\n",
    "    # 左側のグラフ　　割合\n",
    "    cluster_data.plot(kind=\"bar\", ax=axes[cluster, 0])\n",
    "    axes[cluster, 0].set_xlabel('')\n",
    "    axes[cluster, 0].set_ylabel('Proportion')\n",
    "    axes[cluster, 0].set_title(f'Cluster {cluster} - Proportion by Decade')\n",
    "    axes[cluster, 0].legend(loc='upper left', bbox_to_anchor=(1, 1), prop={'size': 8})\n",
    "\n",
    "    # 右側のグラフ　数値\n",
    "    cluster_counts.plot(kind=\"bar\", ax=axes[cluster, 1])\n",
    "    axes[cluster, 1].set_xlabel('')\n",
    "    axes[cluster, 1].set_ylabel('Count')\n",
    "    axes[cluster, 1].set_title(f'Cluster {cluster} - Count by Decade')\n",
    "    axes[cluster, 1].legend(loc='upper left', bbox_to_anchor=(1, 1), prop={'size': 8})\n",
    "\n",
    "plt.tight_layout()\n",
    "plt.show()"
   ]
  }
 ],
 "metadata": {
  "kernelspec": {
   "display_name": "Python 3 (ipykernel)",
   "language": "python",
   "name": "python3"
  },
  "language_info": {
   "codemirror_mode": {
    "name": "ipython",
    "version": 3
   },
   "file_extension": ".py",
   "mimetype": "text/x-python",
   "name": "python",
   "nbconvert_exporter": "python",
   "pygments_lexer": "ipython3",
   "version": "3.8.0"
  }
 },
 "nbformat": 4,
 "nbformat_minor": 5
}
